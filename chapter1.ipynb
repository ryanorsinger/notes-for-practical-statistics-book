{
 "cells": [
  {
   "cell_type": "code",
   "execution_count": 1,
   "metadata": {},
   "outputs": [],
   "source": [
    "import numpy as np\n",
    "import pandas as pd"
   ]
  },
  {
   "cell_type": "code",
   "execution_count": 2,
   "metadata": {},
   "outputs": [
    {
     "data": {
      "text/html": [
       "<div>\n",
       "<style scoped>\n",
       "    .dataframe tbody tr th:only-of-type {\n",
       "        vertical-align: middle;\n",
       "    }\n",
       "\n",
       "    .dataframe tbody tr th {\n",
       "        vertical-align: top;\n",
       "    }\n",
       "\n",
       "    .dataframe thead th {\n",
       "        text-align: right;\n",
       "    }\n",
       "</style>\n",
       "<table border=\"1\" class=\"dataframe\">\n",
       "  <thead>\n",
       "    <tr style=\"text-align: right;\">\n",
       "      <th></th>\n",
       "      <th>State</th>\n",
       "      <th>Population</th>\n",
       "      <th>Murder.Rate</th>\n",
       "      <th>Abbreviation</th>\n",
       "    </tr>\n",
       "  </thead>\n",
       "  <tbody>\n",
       "    <tr>\n",
       "      <th>0</th>\n",
       "      <td>Alabama</td>\n",
       "      <td>4779736</td>\n",
       "      <td>5.7</td>\n",
       "      <td>AL</td>\n",
       "    </tr>\n",
       "    <tr>\n",
       "      <th>1</th>\n",
       "      <td>Alaska</td>\n",
       "      <td>710231</td>\n",
       "      <td>5.6</td>\n",
       "      <td>AK</td>\n",
       "    </tr>\n",
       "    <tr>\n",
       "      <th>2</th>\n",
       "      <td>Arizona</td>\n",
       "      <td>6392017</td>\n",
       "      <td>4.7</td>\n",
       "      <td>AZ</td>\n",
       "    </tr>\n",
       "    <tr>\n",
       "      <th>3</th>\n",
       "      <td>Arkansas</td>\n",
       "      <td>2915918</td>\n",
       "      <td>5.6</td>\n",
       "      <td>AR</td>\n",
       "    </tr>\n",
       "    <tr>\n",
       "      <th>4</th>\n",
       "      <td>California</td>\n",
       "      <td>37253956</td>\n",
       "      <td>4.4</td>\n",
       "      <td>CA</td>\n",
       "    </tr>\n",
       "  </tbody>\n",
       "</table>\n",
       "</div>"
      ],
      "text/plain": [
       "        State  Population  Murder.Rate Abbreviation\n",
       "0     Alabama     4779736          5.7           AL\n",
       "1      Alaska      710231          5.6           AK\n",
       "2     Arizona     6392017          4.7           AZ\n",
       "3    Arkansas     2915918          5.6           AR\n",
       "4  California    37253956          4.4           CA"
      ]
     },
     "execution_count": 2,
     "metadata": {},
     "output_type": "execute_result"
    }
   ],
   "source": [
    "state = pd.read_csv(\"./practical-statistics-for-data-scientists/data/state.csv\")\n",
    "state.head()"
   ]
  },
  {
   "cell_type": "markdown",
   "metadata": {},
   "source": [
    "## Measures of Location/Centrality\n",
    "- mean\n",
    "- median\n",
    "- trimmed mean\n",
    "- weighted mean"
   ]
  },
  {
   "cell_type": "code",
   "execution_count": 3,
   "metadata": {},
   "outputs": [
    {
     "name": "stdout",
     "output_type": "stream",
     "text": [
      "Arithmetic mean: 6162876.3\n",
      "The Median is: 4436369.5\n"
     ]
    }
   ],
   "source": [
    "print(\"Arithmetic mean:\", state.Population.mean())\n",
    "print(\"The Median is:\", state.Population.median())"
   ]
  },
  {
   "cell_type": "code",
   "execution_count": 4,
   "metadata": {},
   "outputs": [
    {
     "name": "stdout",
     "output_type": "stream",
     "text": [
      "Arithmetic mean: 4.066\n",
      "The Median is: 4.0\n",
      "Harmonic mean is: 3.168854094682334\n"
     ]
    }
   ],
   "source": [
    "from scipy.stats import hmean\n",
    "# Locations measures of the murder rate\n",
    "# Question: Are we sure we want to take the mean of a rate? Is there a better choice here?\n",
    "# If memory serves, the appropriate way to take the average of a set of rates is the harmonic mean\n",
    "\n",
    "# Measures of Location/Center\n",
    "print(\"Arithmetic mean:\", state[\"Murder.Rate\"].mean())\n",
    "print(\"The Median is:\", state[\"Murder.Rate\"].median())\n",
    "print(\"Harmonic mean is:\", hmean(state[\"Murder.Rate\"]))"
   ]
  },
  {
   "cell_type": "code",
   "execution_count": 5,
   "metadata": {},
   "outputs": [],
   "source": [
    "def weighted_mean(x, weights):\n",
    "    x = pd.Series(x)\n",
    "    weights = pd.Series(weights)\n",
    "    numerator = np.dot(x, weights)\n",
    "    denominator = weights.sum()\n",
    "    return numerator / denominator\n",
    "\n",
    "assert weighted_mean([1, 2, 3, 4, 5], [1, 1, 1, 1, 1]) == 3.0\n",
    "assert weighted_mean([1, 2, 3, 4, 5], [5, 4, 3, 2, 1]) == 2.3333333333333335\n",
    "assert weighted_mean([1, 2, 3], [0, 0, 1]) == 3\n",
    "assert weighted_mean([1, 2, 3], [1, 0, 0]) == 1\n",
    "assert weighted_mean([1, 2, 3], [1, 1, 0]) == 1.5"
   ]
  },
  {
   "cell_type": "code",
   "execution_count": 6,
   "metadata": {},
   "outputs": [
    {
     "name": "stdout",
     "output_type": "stream",
     "text": [
      "Weighted mean is: 4.445833981123393\n"
     ]
    }
   ],
   "source": [
    "# Weighted mean with numpy\n",
    "a = np.average(state[\"Murder.Rate\"], weights=state[\"Population\"])\n",
    "print(\"Weighted mean is:\", a)"
   ]
  },
  {
   "cell_type": "code",
   "execution_count": 7,
   "metadata": {},
   "outputs": [
    {
     "name": "stdout",
     "output_type": "stream",
     "text": [
      "Weighted mean: 4.445833981123392\n"
     ]
    }
   ],
   "source": [
    "print(\"Weighted mean:\", weighted_mean(state[\"Murder.Rate\"], state.Population))"
   ]
  },
  {
   "cell_type": "code",
   "execution_count": 8,
   "metadata": {},
   "outputs": [
    {
     "name": "stdout",
     "output_type": "stream",
     "text": [
      "Population Mean: 6162876.3\n",
      "5% Trimmed mean: 5316411.543478261\n",
      "10% Trimmed mean: 4783697.125\n",
      "20% Trimmed mean: 4413915.966666667\n"
     ]
    }
   ],
   "source": [
    "from scipy.stats import trim_mean\n",
    "print(\"Population Mean:\", state[\"Population\"].mean())\n",
    "print(\"5% Trimmed mean:\", trim_mean(state[\"Population\"], 0.05))\n",
    "print(\"10% Trimmed mean:\", trim_mean(state[\"Population\"], 0.1))\n",
    "print(\"20% Trimmed mean:\", trim_mean(state[\"Population\"], 0.2))"
   ]
  },
  {
   "cell_type": "markdown",
   "metadata": {},
   "source": [
    "## Let's Measure Variability!\n",
    "- \"Mean absolute deviation\" is what most folks think of when they think of deviations.\n",
    "    - Ex. On any given day this week, the average change in high temperature is 5 degrees.\n",
    "    - Ex. I average about 5 quarts of water a day, plus or minus one. One quart is the .mad() \n",
    "- Median absolute deviation from the median is another measure\n",
    "- Variance\n",
    "- Standard Deviation"
   ]
  },
  {
   "cell_type": "code",
   "execution_count": 9,
   "metadata": {},
   "outputs": [
    {
     "name": "stdout",
     "output_type": "stream",
     "text": [
      "Median is: 5.5\n",
      "Mean is: 14.5\n"
     ]
    }
   ],
   "source": [
    "x = pd.Series([1, 2, 3, 4, 5, 6, 7, 8, 9, 100])\n",
    "\n",
    "print(\"Median is:\", x.median())\n",
    "print(\"Mean is:\", x.mean())"
   ]
  },
  {
   "cell_type": "code",
   "execution_count": 10,
   "metadata": {},
   "outputs": [
    {
     "name": "stdout",
     "output_type": "stream",
     "text": [
      "Mean absolute deviation from the mean 17.1\n"
     ]
    }
   ],
   "source": [
    "# Mean Absolute Deviation from the mean\n",
    "# AKA Average absolute deviation from the mean\n",
    "deviations = (x - x.mean()).abs()\n",
    "deviations.mean()\n",
    "\n",
    "assert deviations.mean() == x.mad()\n",
    "print(\"Mean absolute deviation from the mean\", x.mad())"
   ]
  },
  {
   "cell_type": "code",
   "execution_count": 11,
   "metadata": {},
   "outputs": [
    {
     "name": "stdout",
     "output_type": "stream",
     "text": [
      "Average deviation from the median is 11.5\n"
     ]
    }
   ],
   "source": [
    "# Average deviation from the median:\n",
    "# This is less sensitibe to the outlier than the mean absolute deviation from the mean...\n",
    "# This is still very sensitive to outliers, like the 1_000_000\n",
    "deviations = (x - x.median()).abs()\n",
    "\n",
    "print(\"Average deviation from the median is\", deviations.mean())"
   ]
  },
  {
   "cell_type": "code",
   "execution_count": 12,
   "metadata": {},
   "outputs": [
    {
     "name": "stdout",
     "output_type": "stream",
     "text": [
      "Median deviation from the median is: 2.5\n"
     ]
    }
   ],
   "source": [
    "# Median absolute deviation from the median\n",
    "# SUPER robust to the high outlier\n",
    "deviations = (x - x.median()).abs()\n",
    "median_deviation_from_the_median = deviations.median()\n",
    "print(\"Median deviation from the median is:\", median_deviation_from_the_median)"
   ]
  },
  {
   "cell_type": "code",
   "execution_count": 13,
   "metadata": {},
   "outputs": [],
   "source": [
    "# Something about the relationships between these measures makes me want to dive deeper into Taleb's \"Statistical Consequences of Fat Tails\""
   ]
  },
  {
   "cell_type": "markdown",
   "metadata": {},
   "source": [
    "### The Gedek/Bruce/Bruce book says \"Mean Absolute Deviation\"  and the L1 Norm are Synonyms\n",
    "- Mean absolute deviation from the mean is the same scalar as taking the l1 norm of that same vector?\n",
    "- `x.mad() == np.linalg.norm(x, 1) / len(x)`"
   ]
  },
  {
   "cell_type": "code",
   "execution_count": 14,
   "metadata": {},
   "outputs": [
    {
     "name": "stdout",
     "output_type": "stream",
     "text": [
      "Pandas .mad() is 17.1\n",
      "Manual .mad() is 17.1\n"
     ]
    }
   ],
   "source": [
    "# The Gedek/Bruce/Bruce book says \"Mean Absolute Deviation\" is also known as the L1 norm or the Manhattan norm\n",
    "# TODO: Prove it!\n",
    "assert x.mad() == (x - x.mean()).abs().sum() / len(x)\n",
    "\n",
    "print(\"Pandas .mad() is\", x.mad())\n",
    "print(\"Manual .mad() is\", (x - x.mean()).abs().sum() / len(x))"
   ]
  },
  {
   "cell_type": "code",
   "execution_count": 15,
   "metadata": {},
   "outputs": [
    {
     "name": "stdout",
     "output_type": "stream",
     "text": [
      "Numpy's L1 norm is 171.0\n",
      "Manual L1 norm is 171.0\n"
     ]
    }
   ],
   "source": [
    "residuals = x - x.mean()\n",
    "print(\"Numpy's L1 norm is\", np.linalg.norm(residuals, 1)) \n",
    "print(\"Manual L1 norm is\", (x - x.mean()).abs().sum()) # norm of the distance between x and x_bar"
   ]
  },
  {
   "cell_type": "markdown",
   "metadata": {},
   "source": [
    "##### Takeaways\n",
    "- Mean absolute deviation of a vector is not _exactly_ the same as the L1 norm of that vector\n",
    "- Thee L1 norm is the numerator of mean absolute deviation. The denomminator is the length of the vector\n",
    "- The only difference between L1 and .mad() is that .mad() divides the l1 by the number of observations"
   ]
  },
  {
   "cell_type": "markdown",
   "metadata": {},
   "source": [
    "### Variance and Stardard Deviation\n",
    "- based on squared deviations \n",
    "- Variance = $s^2$ = `np.sum(np.square(x - x.mean())) / n - 1` \n",
    "- Standard deviation = sqrt(variance) = $s$\n",
    "- Standard deviation uses the same units as the original measure\n",
    "- But most folk still say \"standard deviation\" when they have mean absolute deviation in their mind."
   ]
  },
  {
   "cell_type": "code",
   "execution_count": 16,
   "metadata": {},
   "outputs": [],
   "source": [
    "# The square root of the variance is the standard deviation\n",
    "assert np.sqrt(x.var()) == x.std()\n",
    "assert x.var() == np.sum(np.square(x - x.mean())) / (len(x) - 1)"
   ]
  },
  {
   "cell_type": "markdown",
   "metadata": {},
   "source": [
    "### Now We Know\n",
    "- variance > standard deviation > mean absolute deviation from the mean > median absolute deviation from the median"
   ]
  },
  {
   "cell_type": "code",
   "execution_count": 17,
   "metadata": {},
   "outputs": [],
   "source": [
    "def median_absolute_deviation_from_median(x):\n",
    "    x = pd.Series(x)\n",
    "    \n",
    "    # Obtain the residuals from the median (get the distance of the vector from the mean)\n",
    "    residuals = (x - x.median()).abs()\n",
    "    \n",
    "    # obtain the median of the residuals\n",
    "    return residuals.median()\n",
    "\n",
    "assert median_absolute_deviation_from_median([1, 1, 1, 1]) == 0\n",
    "assert median_absolute_deviation_from_median([1, 2, 3, 4, 5]) == 1 # because pd.Series([0, 1, 1, 2, 2]).median() is 1.0"
   ]
  },
  {
   "cell_type": "code",
   "execution_count": 18,
   "metadata": {},
   "outputs": [],
   "source": [
    "# variance > standard deviation > mean absolute deviation > median absolute deviation from the median\n",
    "assert x.var() > x.std() > x.mad() > median_absolute_deviation_from_median(x)"
   ]
  },
  {
   "cell_type": "markdown",
   "metadata": {},
   "source": [
    "## Estimates Based on Percentiles\n",
    "- _order statistics_ are measures based on sorted, ranked data. \n",
    "- Range, meaning `x.max() - x.min()` is the most basic measure\n",
    "- The range is extemely sensitive to outliers and not an effective general measure of dispursion\n",
    "- Range is less sensitive if we drop both the low and high outliers\n",
    "- Quartiles\n",
    "- IQR = range between Q3 and Q1 values\n"
   ]
  },
  {
   "cell_type": "code",
   "execution_count": 19,
   "metadata": {},
   "outputs": [
    {
     "data": {
      "text/plain": [
       "30.152390728873666"
      ]
     },
     "execution_count": 19,
     "metadata": {},
     "output_type": "execute_result"
    }
   ],
   "source": [
    "x.std()"
   ]
  },
  {
   "cell_type": "code",
   "execution_count": 20,
   "metadata": {},
   "outputs": [
    {
     "data": {
      "text/plain": [
       "7.75"
      ]
     },
     "execution_count": 20,
     "metadata": {},
     "output_type": "execute_result"
    }
   ],
   "source": [
    "q3 = x.quantile(.75)\n",
    "q3"
   ]
  },
  {
   "cell_type": "code",
   "execution_count": 21,
   "metadata": {},
   "outputs": [
    {
     "data": {
      "text/plain": [
       "3.25"
      ]
     },
     "execution_count": 21,
     "metadata": {},
     "output_type": "execute_result"
    }
   ],
   "source": [
    "q1 = x.quantile(.25)\n",
    "q1"
   ]
  },
  {
   "cell_type": "code",
   "execution_count": 22,
   "metadata": {},
   "outputs": [
    {
     "data": {
      "text/plain": [
       "4.5"
      ]
     },
     "execution_count": 22,
     "metadata": {},
     "output_type": "execute_result"
    }
   ],
   "source": [
    "iqr = q3 - q1\n",
    "iqr"
   ]
  },
  {
   "cell_type": "markdown",
   "metadata": {},
   "source": [
    "#### Other resources\n",
    "- [David Lane's online stats resource has a section on percentiles](https://oreil.ly/o2fBI)\n",
    "- [Kevin Davenport has a post about deviations from the median and robustness](https:/oreil.lyE7ZzcG)"
   ]
  },
  {
   "cell_type": "markdown",
   "metadata": {},
   "source": [
    "### Vocabulary\n",
    "- boxplot AKA box and whisker plot\n",
    "- frequency table - tally count of numeric values falling into a set of intervals/bins\n",
    "- histogram - frequency table of value counts\n",
    "- density plot is a smoothed version of the histogram, AKA kernel density estimate or KDE"
   ]
  },
  {
   "cell_type": "code",
   "execution_count": null,
   "metadata": {},
   "outputs": [],
   "source": []
  },
  {
   "cell_type": "code",
   "execution_count": null,
   "metadata": {},
   "outputs": [],
   "source": []
  }
 ],
 "metadata": {
  "kernelspec": {
   "display_name": "Python 3",
   "language": "python",
   "name": "python3"
  },
  "language_info": {
   "codemirror_mode": {
    "name": "ipython",
    "version": 3
   },
   "file_extension": ".py",
   "mimetype": "text/x-python",
   "name": "python",
   "nbconvert_exporter": "python",
   "pygments_lexer": "ipython3",
   "version": "3.8.5"
  }
 },
 "nbformat": 4,
 "nbformat_minor": 4
}
