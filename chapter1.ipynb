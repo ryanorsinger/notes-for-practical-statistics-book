{
 "cells": [
  {
   "cell_type": "code",
   "execution_count": 1,
   "metadata": {},
   "outputs": [],
   "source": [
    "import numpy as np\n",
    "import pandas as pd"
   ]
  },
  {
   "cell_type": "code",
   "execution_count": 2,
   "metadata": {},
   "outputs": [
    {
     "data": {
      "text/html": [
       "<div>\n",
       "<style scoped>\n",
       "    .dataframe tbody tr th:only-of-type {\n",
       "        vertical-align: middle;\n",
       "    }\n",
       "\n",
       "    .dataframe tbody tr th {\n",
       "        vertical-align: top;\n",
       "    }\n",
       "\n",
       "    .dataframe thead th {\n",
       "        text-align: right;\n",
       "    }\n",
       "</style>\n",
       "<table border=\"1\" class=\"dataframe\">\n",
       "  <thead>\n",
       "    <tr style=\"text-align: right;\">\n",
       "      <th></th>\n",
       "      <th>State</th>\n",
       "      <th>Population</th>\n",
       "      <th>Murder.Rate</th>\n",
       "      <th>Abbreviation</th>\n",
       "    </tr>\n",
       "  </thead>\n",
       "  <tbody>\n",
       "    <tr>\n",
       "      <th>0</th>\n",
       "      <td>Alabama</td>\n",
       "      <td>4779736</td>\n",
       "      <td>5.7</td>\n",
       "      <td>AL</td>\n",
       "    </tr>\n",
       "    <tr>\n",
       "      <th>1</th>\n",
       "      <td>Alaska</td>\n",
       "      <td>710231</td>\n",
       "      <td>5.6</td>\n",
       "      <td>AK</td>\n",
       "    </tr>\n",
       "    <tr>\n",
       "      <th>2</th>\n",
       "      <td>Arizona</td>\n",
       "      <td>6392017</td>\n",
       "      <td>4.7</td>\n",
       "      <td>AZ</td>\n",
       "    </tr>\n",
       "    <tr>\n",
       "      <th>3</th>\n",
       "      <td>Arkansas</td>\n",
       "      <td>2915918</td>\n",
       "      <td>5.6</td>\n",
       "      <td>AR</td>\n",
       "    </tr>\n",
       "    <tr>\n",
       "      <th>4</th>\n",
       "      <td>California</td>\n",
       "      <td>37253956</td>\n",
       "      <td>4.4</td>\n",
       "      <td>CA</td>\n",
       "    </tr>\n",
       "  </tbody>\n",
       "</table>\n",
       "</div>"
      ],
      "text/plain": [
       "        State  Population  Murder.Rate Abbreviation\n",
       "0     Alabama     4779736          5.7           AL\n",
       "1      Alaska      710231          5.6           AK\n",
       "2     Arizona     6392017          4.7           AZ\n",
       "3    Arkansas     2915918          5.6           AR\n",
       "4  California    37253956          4.4           CA"
      ]
     },
     "execution_count": 2,
     "metadata": {},
     "output_type": "execute_result"
    }
   ],
   "source": [
    "state = pd.read_csv(\"./practical-statistics-for-data-scientists/data/state.csv\")\n",
    "state.head()"
   ]
  },
  {
   "cell_type": "markdown",
   "metadata": {},
   "source": [
    "## Measures of Location/Centrality\n",
    "- mean\n",
    "- median\n",
    "- trimmed mean\n",
    "- weighted mean"
   ]
  },
  {
   "cell_type": "code",
   "execution_count": 3,
   "metadata": {},
   "outputs": [
    {
     "name": "stdout",
     "output_type": "stream",
     "text": [
      "Arithmetic mean: 6162876.3\n",
      "The Median is: 4436369.5\n"
     ]
    }
   ],
   "source": [
    "print(\"Arithmetic mean:\", state.Population.mean())\n",
    "print(\"The Median is:\", state.Population.median())"
   ]
  },
  {
   "cell_type": "code",
   "execution_count": 4,
   "metadata": {},
   "outputs": [
    {
     "name": "stdout",
     "output_type": "stream",
     "text": [
      "Arithmetic mean: 4.066\n",
      "The Median is: 4.0\n",
      "Harmonic mean is: 3.168854094682334\n"
     ]
    }
   ],
   "source": [
    "from scipy.stats import hmean\n",
    "# Locations measures of the murder rate\n",
    "# Question: Are we sure we want to take the mean of a rate? Is there a better choice here?\n",
    "# If memory serves, the appropriate way to take the average of a set of rates is the harmonic mean\n",
    "\n",
    "# Measures of Location/Center\n",
    "print(\"Arithmetic mean:\", state[\"Murder.Rate\"].mean())\n",
    "print(\"The Median is:\", state[\"Murder.Rate\"].median())\n",
    "print(\"Harmonic mean is:\", hmean(state[\"Murder.Rate\"]))"
   ]
  },
  {
   "cell_type": "code",
   "execution_count": 9,
   "metadata": {},
   "outputs": [],
   "source": [
    "def weighted_mean(x, weights):\n",
    "    x = pd.Series(x)\n",
    "    weights = pd.Series(weights)\n",
    "    numerator = np.dot(x, weights)\n",
    "    denominator = weights.sum()\n",
    "    return numerator / denominator\n",
    "\n",
    "assert weighted_mean([1, 2, 3, 4, 5], [1, 1, 1, 1, 1]) == 3.0\n",
    "assert weighted_mean([1, 2, 3, 4, 5], [5, 4, 3, 2, 1]) == 2.3333333333333335\n",
    "assert weighted_mean([1, 2, 3], [0, 0, 1]) == 3\n",
    "assert weighted_mean([1, 2, 3], [1, 0, 0]) == 1\n",
    "assert weighted_mean([1, 2, 3], [1, 1, 0]) == 1.5"
   ]
  },
  {
   "cell_type": "code",
   "execution_count": 10,
   "metadata": {},
   "outputs": [
    {
     "name": "stdout",
     "output_type": "stream",
     "text": [
      "Weighted mean is: 4.445833981123393\n"
     ]
    }
   ],
   "source": [
    "# Weighted mean with numpy\n",
    "a = np.average(state[\"Murder.Rate\"], weights=state[\"Population\"])\n",
    "print(\"Weighted mean is:\", a)"
   ]
  },
  {
   "cell_type": "code",
   "execution_count": 11,
   "metadata": {},
   "outputs": [
    {
     "name": "stdout",
     "output_type": "stream",
     "text": [
      "Weighted mean: 4.445833981123392\n"
     ]
    }
   ],
   "source": [
    "print(\"Weighted mean:\", weighted_mean(state[\"Murder.Rate\"], state.Population))"
   ]
  },
  {
   "cell_type": "code",
   "execution_count": 12,
   "metadata": {},
   "outputs": [
    {
     "name": "stdout",
     "output_type": "stream",
     "text": [
      "Population Mean: 6162876.3\n",
      "5% Trimmed mean: 5316411.543478261\n",
      "10% Trimmed mean: 4783697.125\n",
      "20% Trimmed mean: 4413915.966666667\n"
     ]
    }
   ],
   "source": [
    "from scipy.stats import trim_mean\n",
    "print(\"Population Mean:\", state[\"Population\"].mean())\n",
    "print(\"5% Trimmed mean:\", trim_mean(state[\"Population\"], 0.05))\n",
    "print(\"10% Trimmed mean:\", trim_mean(state[\"Population\"], 0.1))\n",
    "print(\"20% Trimmed mean:\", trim_mean(state[\"Population\"], 0.2))"
   ]
  },
  {
   "cell_type": "markdown",
   "metadata": {},
   "source": [
    "## Let's Work with Variability!"
   ]
  },
  {
   "cell_type": "code",
   "execution_count": 15,
   "metadata": {},
   "outputs": [
    {
     "name": "stdout",
     "output_type": "stream",
     "text": [
      "Median is: 5.5\n",
      "Mean is: 14.5\n"
     ]
    }
   ],
   "source": [
    "x = pd.Series([1, 2, 3, 4, 5, 6, 7, 8, 9, 100])\n",
    "\n",
    "print(\"Median is:\", x.median())\n",
    "print(\"Mean is:\", x.mean())"
   ]
  },
  {
   "cell_type": "code",
   "execution_count": 29,
   "metadata": {},
   "outputs": [
    {
     "name": "stdout",
     "output_type": "stream",
     "text": [
      "Mean absolute deviation from the mean 17.1\n"
     ]
    }
   ],
   "source": [
    "# Mean Absolute Deviation from the mean\n",
    "# AKA Average absolute deviation from the mean\n",
    "deviations = (x - x.mean()).abs()\n",
    "deviations.mean()\n",
    "\n",
    "assert deviations.mean() == x.mad()\n",
    "print(\"Mean absolute deviation from the mean\", x.mad())"
   ]
  },
  {
   "cell_type": "code",
   "execution_count": 30,
   "metadata": {},
   "outputs": [
    {
     "name": "stdout",
     "output_type": "stream",
     "text": [
      "Average deviation from the median is 11.5\n"
     ]
    }
   ],
   "source": [
    "# Average deviation from the median:\n",
    "# This is less sensitibe to the outlier than the mean absolute deviation from the mean...\n",
    "# This is still very sensitive to outliers, like the 1_000_000\n",
    "deviations = (x - x.median()).abs()\n",
    "\n",
    "print(\"Average deviation from the median is\", deviations.mean())"
   ]
  },
  {
   "cell_type": "code",
   "execution_count": 31,
   "metadata": {},
   "outputs": [
    {
     "name": "stdout",
     "output_type": "stream",
     "text": [
      "Median deviation from the median is: 2.5\n"
     ]
    }
   ],
   "source": [
    "# Median absolute deviation from the median\n",
    "# SUPER robust to the high outlier\n",
    "deviations = (x - x.median()).abs()\n",
    "median_deviation_from_the_median = deviations.median()\n",
    "print(\"Median deviation from the median is:\", median_deviation_from_the_median)"
   ]
  },
  {
   "cell_type": "code",
   "execution_count": null,
   "metadata": {},
   "outputs": [],
   "source": [
    "# Something about the relationships between these measures makes me want to dive deeper into Taleb's \"Statistical Consequences of Fat Tails\""
   ]
  },
  {
   "cell_type": "markdown",
   "metadata": {},
   "source": [
    "### The Gedek/Bruce/Bruce book says \"Mean Absolute Deviation\"  == L1\n",
    "- Mean absolute deviation from the mean is the same scalar as taking the l1 norm of that same vector?\n",
    "- `x.mad() == np.linalg.norm(x, 1) / len(x)`"
   ]
  },
  {
   "cell_type": "code",
   "execution_count": 86,
   "metadata": {},
   "outputs": [
    {
     "name": "stdout",
     "output_type": "stream",
     "text": [
      "Pandas .mad() is 17.1\n",
      "Numpy  .mad() is 17.1\n"
     ]
    }
   ],
   "source": [
    "# The Gedek/Bruce/Bruce book says \"Mean Absolute Deviation\" is also known as the L1 norm or the Manhattan norm\n",
    "# TODO: Prove it!\n",
    "print(\"Pandas .mad() is\", x.mad())\n",
    "print(\"Numpy  .mad() is\", (x - x.mean()).abs().sum() / len(x))"
   ]
  },
  {
   "cell_type": "code",
   "execution_count": 85,
   "metadata": {},
   "outputs": [
    {
     "name": "stdout",
     "output_type": "stream",
     "text": [
      "Numpy's L1 norm is 171.0\n",
      "Manual L1 norm is 171.0\n"
     ]
    }
   ],
   "source": [
    "print(\"Numpy's L1 norm is\", np.linalg.norm(x - x.mean(), 1)) \n",
    "print(\"Manual L1 norm is\", (x - x.mean()).abs().sum()) # norm of the distance between x and x_bar"
   ]
  },
  {
   "cell_type": "code",
   "execution_count": 93,
   "metadata": {},
   "outputs": [
    {
     "name": "stdout",
     "output_type": "stream",
     "text": [
      "145.0\n",
      "145\n"
     ]
    }
   ],
   "source": [
    "print(np.linalg.norm(x, 1))\n",
    "print(x.abs().sum())"
   ]
  },
  {
   "cell_type": "code",
   "execution_count": null,
   "metadata": {},
   "outputs": [],
   "source": []
  }
 ],
 "metadata": {
  "kernelspec": {
   "display_name": "Python 3",
   "language": "python",
   "name": "python3"
  },
  "language_info": {
   "codemirror_mode": {
    "name": "ipython",
    "version": 3
   },
   "file_extension": ".py",
   "mimetype": "text/x-python",
   "name": "python",
   "nbconvert_exporter": "python",
   "pygments_lexer": "ipython3",
   "version": "3.8.5"
  }
 },
 "nbformat": 4,
 "nbformat_minor": 4
}
